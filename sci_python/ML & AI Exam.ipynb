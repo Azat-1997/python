{
 "cells": [
  {
   "cell_type": "code",
   "execution_count": 1,
   "metadata": {},
   "outputs": [
    {
     "name": "stderr",
     "output_type": "stream",
     "text": [
      "Using TensorFlow backend.\n"
     ]
    }
   ],
   "source": [
    "import pandas as pd\n",
    "import numpy as np\n",
    "import matplotlib\n",
    "import matplotlib.pyplot as plt\n",
    "from sklearn.decomposition import PCA\n",
    "from sklearn.model_selection import train_test_split\n",
    "from statistics import *\n",
    "%matplotlib inline\n",
    "from sklearn.multiclass import OneVsRestClassifier\n",
    "from sklearn.tree import DecisionTreeClassifier\n",
    "from sklearn.ensemble import RandomForestClassifier\n",
    "from sklearn.metrics import confusion_matrix\n",
    "from sklearn.linear_model import LogisticRegression\n",
    "from keras.datasets import mnist"
   ]
  },
  {
   "cell_type": "markdown",
   "metadata": {},
   "source": [
    "1. Select the first 3000 rows from the MNIST dataset."
   ]
  },
  {
   "cell_type": "code",
   "execution_count": 2,
   "metadata": {},
   "outputs": [],
   "source": [
    "(X_train, y_train), (X_pred, y_pred) = mnist.load_data()\n",
    "X_train = X_train[:3000]\n",
    "y_train = y_train[:3000]"
   ]
  },
  {
   "cell_type": "code",
   "execution_count": 5,
   "metadata": {},
   "outputs": [],
   "source": [
    "dim = 784 # 28*28 \n",
    "X_train = X_train.reshape(len(X_train), dim)"
   ]
  },
  {
   "cell_type": "markdown",
   "metadata": {},
   "source": [
    "2. Randomly split the derived sample using the train_test_split() into training and test sets in a ratio of 70 to 30. Use the parameter **random_state = 15**."
   ]
  },
  {
   "cell_type": "code",
   "execution_count": 6,
   "metadata": {},
   "outputs": [],
   "source": [
    "X_train, X_test, y_train, y_test = train_test_split(X_train, y_train, test_size = 0.3, random_state = 15)"
   ]
  },
  {
   "cell_type": "code",
   "execution_count": 7,
   "metadata": {},
   "outputs": [
    {
     "data": {
      "text/plain": [
       "2100"
      ]
     },
     "execution_count": 7,
     "metadata": {},
     "output_type": "execute_result"
    }
   ],
   "source": [
    "len(X_train)"
   ]
  },
  {
   "cell_type": "markdown",
   "metadata": {},
   "source": [
    "3. Use One-vs-All multiclass classification method OneVsRestClassifier(), train the random forest classifier RandomForestClassifier() with parameters **criterion='gini', min_samples_leaf=10, max_depth=20, n_estimators=10, random_state=15**. Perform evaluation using the test data."
   ]
  },
  {
   "cell_type": "code",
   "execution_count": 8,
   "metadata": {},
   "outputs": [],
   "source": [
    "tree = RandomForestClassifier(criterion = 'gini', \n",
    "                              min_samples_leaf = 10, \n",
    "                              max_depth = 20, \n",
    "                              n_estimators = 10, \n",
    "                              random_state = 15)\n",
    "clf1 = OneVsRestClassifier(tree).fit(X_train, y_train)"
   ]
  },
  {
   "cell_type": "code",
   "execution_count": 9,
   "metadata": {},
   "outputs": [],
   "source": [
    "y_pred = clf1.predict(X_test)"
   ]
  },
  {
   "cell_type": "markdown",
   "metadata": {},
   "source": [
    "number of correctly classified objects of all classes for the test data:"
   ]
  },
  {
   "cell_type": "code",
   "execution_count": 10,
   "metadata": {},
   "outputs": [
    {
     "data": {
      "text/plain": [
       "array([[77,  0,  2,  0,  1,  2,  2,  0,  2,  0],\n",
       "       [ 0, 99,  0,  1,  0,  1,  0,  0,  0,  0],\n",
       "       [ 1,  0, 72,  0,  2,  0,  1,  3,  2,  1],\n",
       "       [ 0,  1,  6, 79,  0,  3,  2,  7,  4,  2],\n",
       "       [ 0,  2,  3,  0, 82,  0,  1,  2,  0,  0],\n",
       "       [ 1,  0,  0,  4,  3, 62,  2,  0,  3,  2],\n",
       "       [ 2,  1,  1,  0,  0,  2, 79,  0,  0,  0],\n",
       "       [ 2,  0,  1,  0,  6,  0,  0, 87,  0,  1],\n",
       "       [ 0,  2,  4,  5,  0,  6,  1,  0, 63,  2],\n",
       "       [ 1,  0,  0,  2,  8,  0,  0,  5,  2, 77]])"
      ]
     },
     "execution_count": 10,
     "metadata": {},
     "output_type": "execute_result"
    }
   ],
   "source": [
    "CM = confusion_matrix(y_test, y_pred)\n",
    "CM"
   ]
  },
  {
   "cell_type": "code",
   "execution_count": 11,
   "metadata": {},
   "outputs": [
    {
     "data": {
      "text/plain": [
       "777"
      ]
     },
     "execution_count": 11,
     "metadata": {},
     "output_type": "execute_result"
    }
   ],
   "source": [
    "sum([CM[i][i] for i in range(len(CM))])"
   ]
  },
  {
   "cell_type": "markdown",
   "metadata": {},
   "source": [
    "5. Download the data for prediction. Obtain a prediction for the digit image with **id 10** using the trained algorithm.  \n",
    "\n",
    "Enter the probability of assigning image to the assigned class. Enter the solution rounded to the nearest thousandth."
   ]
  },
  {
   "cell_type": "code",
   "execution_count": 12,
   "metadata": {
    "scrolled": true
   },
   "outputs": [
    {
     "data": {
      "text/plain": [
       "array([[0, 0, 0, ..., 0, 0, 0],\n",
       "       [0, 0, 0, ..., 0, 0, 0],\n",
       "       [0, 0, 0, ..., 0, 0, 0],\n",
       "       ...,\n",
       "       [0, 0, 0, ..., 0, 0, 0],\n",
       "       [0, 0, 0, ..., 0, 0, 0],\n",
       "       [0, 0, 0, ..., 0, 0, 0]])"
      ]
     },
     "execution_count": 12,
     "metadata": {},
     "output_type": "execute_result"
    }
   ],
   "source": [
    "df = pd.read_csv('DataForPrediction_FinalTask.csv', sep=',')\n",
    "df = df.drop(['id'], axis = 1).values\n",
    "df"
   ]
  },
  {
   "cell_type": "code",
   "execution_count": 13,
   "metadata": {},
   "outputs": [],
   "source": [
    "y_pred = clf1.predict(df)\n",
    "assigned = y_pred[10]"
   ]
  },
  {
   "cell_type": "code",
   "execution_count": 15,
   "metadata": {},
   "outputs": [
    {
     "data": {
      "text/plain": [
       "0.763"
      ]
     },
     "execution_count": 15,
     "metadata": {},
     "output_type": "execute_result"
    }
   ],
   "source": [
    "round(clf1.predict_proba(df)[10][assigned], 3)"
   ]
  },
  {
   "cell_type": "markdown",
   "metadata": {},
   "source": [
    "6. Find scores for the training data corresponding to the **25** principal components."
   ]
  },
  {
   "cell_type": "code",
   "execution_count": 16,
   "metadata": {},
   "outputs": [],
   "source": [
    "pca = PCA(n_components = 25, svd_solver = 'full')\n",
    "modelPCA = pca.fit(X_train)\n",
    "\n",
    "X_train = modelPCA.transform(X_train)"
   ]
  },
  {
   "cell_type": "markdown",
   "metadata": {},
   "source": [
    "7. Use One-vs-All multiclass classification method OneVsRestClassifier(), train the decision tree DecisionTreeClassifier() with parameters **criterion='gini', min_samples_leaf=10, max_depth=20, random_state=15**. Use scores as training data."
   ]
  },
  {
   "cell_type": "code",
   "execution_count": 17,
   "metadata": {},
   "outputs": [],
   "source": [
    "dec_tree = DecisionTreeClassifier(criterion = 'gini', #критерий разделения\n",
    "                              min_samples_leaf = 10, #минимальное число объектов в листе\n",
    "                              max_depth = 20,\n",
    "                              random_state = 15)\n",
    "\n",
    "clf3 = OneVsRestClassifier(dec_tree).fit(X_train, y_train)"
   ]
  },
  {
   "cell_type": "markdown",
   "metadata": {},
   "source": [
    "8. Apply PCA transformation obtained earlier to the test data. Perform evaluation."
   ]
  },
  {
   "cell_type": "code",
   "execution_count": 21,
   "metadata": {},
   "outputs": [],
   "source": [
    "X_test = modelPCA.transform(X_test)"
   ]
  },
  {
   "cell_type": "code",
   "execution_count": 22,
   "metadata": {},
   "outputs": [],
   "source": [
    "y_pred = clf3.predict(X_test)"
   ]
  },
  {
   "cell_type": "markdown",
   "metadata": {},
   "source": [
    "Enter the number of correctly classified objects of all classes for the test data:"
   ]
  },
  {
   "cell_type": "code",
   "execution_count": 23,
   "metadata": {},
   "outputs": [
    {
     "data": {
      "text/plain": [
       "array([[66,  0,  1,  0,  1, 10,  1,  3,  3,  1],\n",
       "       [ 0, 95,  2,  0,  1,  0,  1,  0,  0,  2],\n",
       "       [ 4,  0, 62,  3,  3,  2,  0,  3,  1,  4],\n",
       "       [ 3,  1,  4, 65,  2,  9,  1,  0,  4, 15],\n",
       "       [ 0,  1,  4,  0, 67,  1,  1,  1,  3, 12],\n",
       "       [ 3,  2,  0,  9,  1, 42,  3,  1,  4, 12],\n",
       "       [ 2,  1,  2,  0,  1,  1, 73,  1,  3,  1],\n",
       "       [ 1,  1,  2,  0,  4,  0,  1, 79,  2,  7],\n",
       "       [ 1,  1,  4,  4,  0,  6,  1,  1, 49, 16],\n",
       "       [ 3,  2,  1,  3, 10,  3,  0,  5,  3, 65]])"
      ]
     },
     "execution_count": 23,
     "metadata": {},
     "output_type": "execute_result"
    }
   ],
   "source": [
    "CM = confusion_matrix(y_test, y_pred)\n",
    "CM"
   ]
  },
  {
   "cell_type": "code",
   "execution_count": 24,
   "metadata": {},
   "outputs": [
    {
     "data": {
      "text/plain": [
       "663"
      ]
     },
     "execution_count": 24,
     "metadata": {},
     "output_type": "execute_result"
    }
   ],
   "source": [
    "sum([CM[i][i] for i in range(len(CM))])"
   ]
  },
  {
   "cell_type": "markdown",
   "metadata": {},
   "source": [
    "9. Apply PCA transformation obtained earlier to the data for prediction. Obtain a prediction for the digit image with **id 10** using the trained algorithm."
   ]
  },
  {
   "cell_type": "code",
   "execution_count": 25,
   "metadata": {},
   "outputs": [],
   "source": [
    "df = modelPCA.transform(df)"
   ]
  },
  {
   "cell_type": "markdown",
   "metadata": {},
   "source": [
    "Enter the probability of assigning image to the assigned class by the decision tree."
   ]
  },
  {
   "cell_type": "code",
   "execution_count": 26,
   "metadata": {},
   "outputs": [],
   "source": [
    "y_pred = clf3.predict(df)\n",
    "assigned = y_pred[10]"
   ]
  },
  {
   "cell_type": "code",
   "execution_count": 27,
   "metadata": {},
   "outputs": [
    {
     "name": "stderr",
     "output_type": "stream",
     "text": [
      "/home/tanye/miniconda3/lib/python3.7/site-packages/sklearn/multiclass.py:382: RuntimeWarning: invalid value encountered in true_divide\n",
      "  Y /= np.sum(Y, axis=1)[:, np.newaxis]\n"
     ]
    },
    {
     "data": {
      "text/plain": [
       "0.556"
      ]
     },
     "execution_count": 27,
     "metadata": {},
     "output_type": "execute_result"
    }
   ],
   "source": [
    "round(clf3.predict_proba(df)[10][assigned], 3)"
   ]
  }
 ],
 "metadata": {
  "kernelspec": {
   "display_name": "Python 3",
   "language": "python",
   "name": "python3"
  },
  "language_info": {
   "codemirror_mode": {
    "name": "ipython",
    "version": 3
   },
   "file_extension": ".py",
   "mimetype": "text/x-python",
   "name": "python",
   "nbconvert_exporter": "python",
   "pygments_lexer": "ipython3",
   "version": "3.5.2"
  }
 },
 "nbformat": 4,
 "nbformat_minor": 4
}
