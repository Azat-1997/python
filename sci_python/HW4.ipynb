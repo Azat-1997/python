{
 "cells": [
  {
   "cell_type": "code",
   "execution_count": 1,
   "metadata": {},
   "outputs": [],
   "source": [
    "aminoacids = {\"A\" : 71.03711,\n",
    "\"C\" : 103.00919,\n",
    "\"D\" :  115.02694,\n",
    "\"E\" :  129.04259,\n",
    "\"F\" :  147.06841,\n",
    "\"G\" :  57.02146,\n",
    "\"H\" :  137.05891,\n",
    "\"I\" :  113.08406,\n",
    "\"K\" :  128.09496,\n",
    "\"L\" :  113.08406,\n",
    "\"M\" :  131.04049,\n",
    "\"N\" :  114.04293,\n",
    "\"P\" :  97.05276,\n",
    "\"Q\" :  128.05858,\n",
    "\"R\" :  156.10111,\n",
    "\"S\" :  87.03203,\n",
    "\"T\" :  101.04768,\n",
    "\"V\" :  99.06841,\n",
    "\"W\" :  186.07931,\n",
    "\"Y\" :  163.06333}"
   ]
  },
  {
   "cell_type": "code",
   "execution_count": 22,
   "metadata": {},
   "outputs": [
    {
     "name": "stdout",
     "output_type": "stream",
     "text": [
      "KEKEPR\n",
      "WMQS"
     ]
    }
   ],
   "source": [
    "w = [3524.8542,\n",
    "3710.9335,\n",
    "3841.974,\n",
    "3970.0326,\n",
    "4057.0646]\n",
    "\n",
    "m = [1988.21104821,\n",
    "610.391039105,\n",
    "738.485999105,\n",
    "766.492149105,\n",
    "863.544909105,\n",
    "867.528589105,\n",
    "992.587499105,\n",
    "995.623549105,\n",
    "1120.6824591,\n",
    "1124.6661391,\n",
    "1221.7188991,\n",
    "1249.7250491,\n",
    "1377.8200091]\n",
    "\n",
    "def find_by_mass(w:float, aminoacids=aminoacids):\n",
    "    for key, value in aminoacids.items():\n",
    "        if abs(value - w) < 1e-4:\n",
    "            return key\n",
    "    return \"\"\n",
    "    \n",
    "def get_aa(mass=m[1:], jstart = 0, istart = 1):\n",
    "    di = 1\n",
    "    for j, u in enumerate(mass[:-1], start = jstart):\n",
    "        if  di - j != 1:\n",
    "            continue\n",
    "            \n",
    "        for i, v in enumerate(mass[j:],start = istart + j):\n",
    "            \n",
    "            letter = find_by_mass(abs(u - v))\n",
    "            if letter:\n",
    "                print(letter, end=\"\")\n",
    "                di = i\n",
    "                break\n",
    "\n",
    "get_aa()\n",
    "print()\n",
    "get_aa(w)"
   ]
  }
 ],
 "metadata": {
  "kernelspec": {
   "display_name": "Python 3",
   "language": "python",
   "name": "python3"
  },
  "language_info": {
   "codemirror_mode": {
    "name": "ipython",
    "version": 3
   },
   "file_extension": ".py",
   "mimetype": "text/x-python",
   "name": "python",
   "nbconvert_exporter": "python",
   "pygments_lexer": "ipython3",
   "version": "3.6.7"
  }
 },
 "nbformat": 4,
 "nbformat_minor": 4
}
