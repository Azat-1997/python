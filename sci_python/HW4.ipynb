{
 "cells": [
  {
   "cell_type": "code",
   "execution_count": 20,
   "metadata": {},
   "outputs": [
    {
     "data": {
      "text/plain": [
       "0.001"
      ]
     },
     "execution_count": 20,
     "metadata": {},
     "output_type": "execute_result"
    }
   ],
   "source": [
    "aminoacids = {\"A\" : 71.03711,\n",
    "\"C\" : 103.00919,\n",
    "\"D\" :  115.02694,\n",
    "\"E\" :  129.04259,\n",
    "\"F\" :  147.06841,\n",
    "\"G\" :  57.02146,\n",
    "\"H\" :  137.05891,\n",
    "\"I\" :  113.08406,\n",
    "\"K\" :  128.09496,\n",
    "\"L\" :  113.08406,\n",
    "\"M\" :  131.04049,\n",
    "\"N\" :  114.04293,\n",
    "\"P\" :  97.05276,\n",
    "\"Q\" :  128.05858,\n",
    "\"R\" :  156.10111,\n",
    "\"S\" :  87.03203,\n",
    "\"T\" :  101.04768,\n",
    "\"V\" :  99.06841,\n",
    "\"W\" :  186.07931,\n",
    "\"Y\" :  163.06333}"
   ]
  },
  {
   "cell_type": "code",
   "execution_count": 24,
   "metadata": {},
   "outputs": [
    {
     "name": "stdout",
     "output_type": "stream",
     "text": [
      "WMQS"
     ]
    }
   ],
   "source": [
    "w = [3524.8542,\n",
    "3710.9335,\n",
    "3841.974,\n",
    "3970.0326,\n",
    "4057.0646]\n",
    "\n",
    "for i, v in enumerate(w[1:], start = 1):\n",
    "    weigh_amino = w[i] - w[i-1]\n",
    "    for key, value in aminoacids.items():\n",
    "        if abs(weigh_amino - value) < 1e-4:\n",
    "            print(key, end=\"\")\n",
    "            break\n",
    "            "
   ]
  }
 ],
 "metadata": {
  "kernelspec": {
   "display_name": "Python 3",
   "language": "python",
   "name": "python3"
  },
  "language_info": {
   "codemirror_mode": {
    "name": "ipython",
    "version": 3
   },
   "file_extension": ".py",
   "mimetype": "text/x-python",
   "name": "python",
   "nbconvert_exporter": "python",
   "pygments_lexer": "ipython3",
   "version": "3.6.7"
  }
 },
 "nbformat": 4,
 "nbformat_minor": 4
}
