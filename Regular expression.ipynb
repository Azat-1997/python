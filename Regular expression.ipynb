{
 "cells": [
  {
   "cell_type": "code",
   "execution_count": 9,
   "metadata": {},
   "outputs": [],
   "source": [
    "import re"
   ]
  },
  {
   "cell_type": "code",
   "execution_count": 27,
   "metadata": {},
   "outputs": [],
   "source": [
    "test = [\"Mus musculus\", \"Agalma elegans\", \"Frillagalma vityazi\",\"Cordagalma tottoni\"]"
   ]
  },
  {
   "cell_type": "code",
   "execution_count": 40,
   "metadata": {},
   "outputs": [],
   "source": [
    "second_test = [\"Mus musculus (Y456)\", \"Agalma elegans (AB34)\", \"Frillagalma vityazi\", \"Cordagalma tottoni\"]"
   ]
  },
  {
   "cell_type": "code",
   "execution_count": 38,
   "metadata": {},
   "outputs": [
    {
     "name": "stdout",
     "output_type": "stream",
     "text": [
      "M. musculus\n",
      "A. elegans\n",
      "F. vityazi\n",
      "C. tottoni\n"
     ]
    }
   ],
   "source": [
    "for case in test:\n",
    "    new_part = re.findall(r\"^\\w+?\",case)[0] + \".\"\n",
    "    new_string = re.sub(r\"^\\w+\\b\", new_part, case)\n",
    "    print(new_string)"
   ]
  },
  {
   "cell_type": "code",
   "execution_count": 76,
   "metadata": {},
   "outputs": [
    {
     "name": "stdout",
     "output_type": "stream",
     "text": [
      "M.musculus_Y456\n",
      "A.elegans_AB34\n",
      "F.vityazi\n",
      "C.tottoni\n"
     ]
    }
   ],
   "source": [
    "for case in second_test:\n",
    "    new_part = re.findall(r\"^\\w+?\",case)[0] + \".\"\n",
    "    new_string = re.sub(r\"^\\w+\\b\", new_part, case)\n",
    "    lst = re.split(\"[\\s\\(\\)]\",new_string)\n",
    "    if len(lst) > 2:\n",
    "        lst[2] = \"_\"\n",
    "    print(\"\".join(lst))"
   ]
  },
  {
   "cell_type": "code",
   "execution_count": 88,
   "metadata": {},
   "outputs": [
    {
     "name": "stdout",
     "output_type": "stream",
     "text": [
      "M.musculus_Y4\n"
     ]
    }
   ],
   "source": [
    "print(re.sub(r\"([A-Z])\\w+\\s(\\w+)\\s\\(([A-Z][0-9]+)\\)\", r\"\\1.\\2_\\3\", \"Mus musculus (Y456)\"))"
   ]
  },
  {
   "cell_type": "code",
   "execution_count": 8,
   "metadata": {},
   "outputs": [
    {
     "name": "stdout",
     "output_type": "stream",
     "text": [
      "Isocitrate lyase (>WP_000857856) contains its active site PS00161 starting from 192th position: asvKKCGHMggk\n"
     ]
    }
   ],
   "source": [
    "#!/usr/bin/python\n",
    "import re\n",
    "\n",
    "def convert_regexp(regexp:str):\n",
    "    new_regexp = []\n",
    "    transform = {'<':'^','>':'$', 'x':'.', '(':'{', ')':'}', '{':'[^','}':']', '-':'',' ':''}\n",
    "    # Map PROSITE-Regexp symbols to Python Regexp-symbols\n",
    "    for char in regexp:\n",
    "        if char not in transform.keys():\n",
    "            # If char is not metasymbol we just add char in `new_regexp` list\n",
    "            new_regexp.append(char)\n",
    "        else:\n",
    "            # If it is then we use the char as key\n",
    "            new_regexp.append(transform[char])\n",
    "         # Finally, assemble new regular expression\n",
    "    return \"\".join(new_regexp)\n",
    "\n",
    "def get_motif(prosite:str,fasta:str):\n",
    "    # This function takes PROSITE-Regexp, and FASTA FILE with one protein sequences\n",
    "    regexp = convert_regexp(prosite) # Transform to PythonRegexp form\n",
    "    with open(fasta) as file:\n",
    "        name = file.readline() # First line include AC number. It's need in answer\n",
    "        FASTA_ID = re.findall(r\">\\w+\", name)[0] # Extract AC number\n",
    "        seq = \"\".join(map(lambda x: x.strip(), file.readlines())) # It's sequence of protein\n",
    "        motif = re.search(regexp,seq) # find motif (KKCGHM)\n",
    "        span = motif.span() \n",
    "        # Return variables in dictionary for further work\n",
    "        return {\"seq\":seq, \"ID\":FASTA_ID, \"motif\":motif.group(), \"span\":span}\n",
    "    \n",
    "result = get_motif(\"K-[KR]-C-G-H-[LMQR]\",\"isocitrate_lyase.fasta\")\n",
    "# prefix is first \"zzz\" in pattern\n",
    "prefix = result[\"seq\"][result[\"span\"][0]-3:result[\"span\"][0]].lower()\n",
    "# suffix is last one\n",
    "suffix = result[\"seq\"][result[\"span\"][1]:result[\"span\"][1]+3].lower()\n",
    "context_motif = prefix+result[\"motif\"]+suffix\n",
    "# We have extracted span to show start poistion\n",
    "N = str(result[\"span\"][0])\n",
    "# Print answer like task`s pattern.\n",
    "print(\"Isocitrate lyase (\" + result[\"ID\"] + \") contains its active site PS00161 starting from \"+ N + \"th position: \" + context_motif)"
   ]
  },
  {
   "cell_type": "code",
   "execution_count": null,
   "metadata": {},
   "outputs": [],
   "source": []
  }
 ],
 "metadata": {
  "kernelspec": {
   "display_name": "Python 3",
   "language": "python",
   "name": "python3"
  },
  "language_info": {
   "codemirror_mode": {
    "name": "ipython",
    "version": 3
   },
   "file_extension": ".py",
   "mimetype": "text/x-python",
   "name": "python",
   "nbconvert_exporter": "python",
   "pygments_lexer": "ipython3",
   "version": "3.6.7"
  }
 },
 "nbformat": 4,
 "nbformat_minor": 4
}
