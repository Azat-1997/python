{
 "cells": [
  {
   "cell_type": "code",
   "execution_count": 9,
   "metadata": {},
   "outputs": [],
   "source": [
    "import re"
   ]
  },
  {
   "cell_type": "code",
   "execution_count": 27,
   "metadata": {},
   "outputs": [],
   "source": [
    "test = [\"Mus musculus\", \"Agalma elegans\", \"Frillagalma vityazi\",\"Cordagalma tottoni\"]"
   ]
  },
  {
   "cell_type": "code",
   "execution_count": 40,
   "metadata": {},
   "outputs": [],
   "source": [
    "second_test = [\"Mus musculus (Y456)\", \"Agalma elegans (AB34)\", \"Frillagalma vityazi\", \"Cordagalma tottoni\"]"
   ]
  },
  {
   "cell_type": "code",
   "execution_count": 38,
   "metadata": {},
   "outputs": [
    {
     "name": "stdout",
     "output_type": "stream",
     "text": [
      "M. musculus\n",
      "A. elegans\n",
      "F. vityazi\n",
      "C. tottoni\n"
     ]
    }
   ],
   "source": [
    "for case in test:\n",
    "    new_part = re.findall(r\"^\\w+?\",case)[0] + \".\"\n",
    "    new_string = re.sub(r\"^\\w+\\b\", new_part, case)\n",
    "    print(new_string)"
   ]
  },
  {
   "cell_type": "code",
   "execution_count": 76,
   "metadata": {},
   "outputs": [
    {
     "name": "stdout",
     "output_type": "stream",
     "text": [
      "M.musculus_Y456\n",
      "A.elegans_AB34\n",
      "F.vityazi\n",
      "C.tottoni\n"
     ]
    }
   ],
   "source": [
    "for case in second_test:\n",
    "    new_part = re.findall(r\"^\\w+?\",case)[0] + \".\"\n",
    "    new_string = re.sub(r\"^\\w+\\b\", new_part, case)\n",
    "    lst = re.split(\"[\\s\\(\\)]\",new_string)\n",
    "    if len(lst) > 2:\n",
    "        lst[2] = \"_\"\n",
    "    print(\"\".join(lst))"
   ]
  },
  {
   "cell_type": "code",
   "execution_count": 88,
   "metadata": {},
   "outputs": [
    {
     "name": "stdout",
     "output_type": "stream",
     "text": [
      "M.musculus_Y4\n"
     ]
    }
   ],
   "source": [
    "print(re.sub(r\"([A-Z])\\w+\\s(\\w+)\\s\\(([A-Z][0-9]+)\\)\", r\"\\1.\\2_\\3\", \"Mus musculus (Y456)\"))"
   ]
  }
 ],
 "metadata": {
  "kernelspec": {
   "display_name": "Python 3",
   "language": "python",
   "name": "python3"
  },
  "language_info": {
   "codemirror_mode": {
    "name": "ipython",
    "version": 3
   },
   "file_extension": ".py",
   "mimetype": "text/x-python",
   "name": "python",
   "nbconvert_exporter": "python",
   "pygments_lexer": "ipython3",
   "version": "3.6.7"
  }
 },
 "nbformat": 4,
 "nbformat_minor": 4
}
